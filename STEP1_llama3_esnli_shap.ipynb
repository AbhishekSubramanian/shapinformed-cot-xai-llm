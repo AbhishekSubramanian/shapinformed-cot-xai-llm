{
  "cells": [
    {
      "cell_type": "code",
      "execution_count": null,
      "metadata": {
        "id": "yZqHUbaIaVBz"
      },
      "outputs": [],
      "source": [
        "!pip install datasets"
      ]
    },
    {
      "cell_type": "code",
      "execution_count": null,
      "metadata": {
        "id": "NNLEPcAjabSm"
      },
      "outputs": [],
      "source": [
        "import torch\n",
        "from transformers import AutoTokenizer, AutoModelForCausalLM\n",
        "from datasets import load_dataset\n",
        "import shap\n",
        "import numpy as np\n",
        "import time\n",
        "import pandas as pd\n",
        "from tqdm import tqdm"
      ]
    },
    {
      "cell_type": "code",
      "execution_count": null,
      "metadata": {
        "id": "43RQdL9Ec7xJ"
      },
      "outputs": [],
      "source": [
        "# Configuration\n",
        "access_token = \"\"  # Replace with your token\n",
        "model_name = \"meta-llama/Llama-3.1-8B-Instruct\"\n",
        "max_length = 256  # Reduced sequence length for stability\n",
        "\n",
        "# Label mapping\n",
        "label_map = {\n",
        "    0: 'entailment',\n",
        "    1: 'neutral',\n",
        "    2: 'contradiction'\n",
        "}\n",
        "\n",
        "# Load model and tokenizer\n",
        "print(\"Loading model...\")\n",
        "tokenizer = AutoTokenizer.from_pretrained(model_name, token=access_token)\n",
        "model = AutoModelForCausalLM.from_pretrained(model_name, token=access_token,\n",
        "                                           torch_dtype=torch.float16,\n",
        "                                           device_map=\"auto\")\n",
        "\n",
        "# Fix tokenizer settings\n",
        "if tokenizer.pad_token is None:\n",
        "    tokenizer.pad_token = tokenizer.eos_token\n",
        "tokenizer.padding_side = \"left\"\n",
        "\n",
        "model.eval()"
      ]
    },
    {
      "cell_type": "code",
      "execution_count": null,
      "metadata": {
        "id": "uAY72oOMc7bR"
      },
      "outputs": [],
      "source": [
        "# Load dataset\n",
        "num_samples = 500\n",
        "print(\"Loading dataset...\")\n",
        "dataset = load_dataset(\"esnli\", split=f\"validation[:{num_samples}]\")"
      ]
    },
    {
      "cell_type": "code",
      "execution_count": null,
      "metadata": {
        "id": "fJ2vZqG9c7FE"
      },
      "outputs": [],
      "source": [
        "# Improved prediction function\n",
        "def safe_predict(texts):\n",
        "    try:\n",
        "        if isinstance(texts, str):\n",
        "            texts = [texts]\n",
        "        elif isinstance(texts, np.ndarray):\n",
        "            texts = texts.tolist()\n",
        "\n",
        "        # Ensure we have a list of strings\n",
        "        if not all(isinstance(t, str) for t in texts):\n",
        "            texts = [str(t) for t in texts]\n",
        "\n",
        "        inputs = tokenizer(texts, return_tensors=\"pt\",\n",
        "                         padding=True, truncation=True,\n",
        "                         max_length=max_length).to(model.device)\n",
        "\n",
        "        with torch.no_grad():\n",
        "            outputs = model(**inputs)\n",
        "\n",
        "        # Return logits for the last token only\n",
        "        return outputs.logits[:, -1, :3].cpu().numpy()  # Only first 3 dimensions for our labels\n",
        "\n",
        "    except Exception as e:\n",
        "        print(f\"\\nPrediction error: {str(e)}\")\n",
        "        return np.zeros((len(texts), 3))  # Return neutral predictions on error\n"
      ]
    },
    {
      "cell_type": "code",
      "execution_count": null,
      "metadata": {
        "id": "-P-BO9r5c6w4"
      },
      "outputs": [],
      "source": [
        "# Robust SHAP explainer\n",
        "def get_shap_values(text):\n",
        "    try:\n",
        "        # Create explainer with safety checks\n",
        "        masker = shap.maskers.Text(tokenizer, mask_token=tokenizer.eos_token)\n",
        "        explainer = shap.Explainer(\n",
        "            safe_predict,\n",
        "            masker,\n",
        "            algorithm=\"permutation\",\n",
        "            max_evals=200,  # Reduced for speed\n",
        "            output_names=list(label_map.values()))\n",
        "\n",
        "        with torch.no_grad():\n",
        "            shap_values = explainer([text])\n",
        "        return shap_values\n",
        "    except Exception as e:\n",
        "        print(f\"\\nSHAP error: {str(e)}\")\n",
        "        return None\n"
      ]
    },
    {
      "cell_type": "code",
      "execution_count": null,
      "metadata": {
        "id": "bNImpkRmc6eZ"
      },
      "outputs": [],
      "source": [
        "# Robust explanation generator\n",
        "def generate_explanation(prompt, max_new_tokens=100):\n",
        "    try:\n",
        "        inputs = tokenizer(prompt, return_tensors=\"pt\",\n",
        "                         max_length=max_length,\n",
        "                         truncation=True).to(model.device)\n",
        "\n",
        "        with torch.no_grad():\n",
        "            outputs = model.generate(\n",
        "                **inputs,\n",
        "                max_new_tokens=max_new_tokens,\n",
        "                pad_token_id=tokenizer.eos_token_id,\n",
        "                do_sample=True,\n",
        "                temperature=0.7,\n",
        "                top_p=0.9\n",
        "            )\n",
        "\n",
        "        full_text = tokenizer.decode(outputs[0], skip_special_tokens=True)\n",
        "        # Extract only the new generated part\n",
        "        input_length = inputs.input_ids.shape[1]\n",
        "        return full_text[input_length:].strip()\n",
        "    except Exception as e:\n",
        "        print(f\"\\nGeneration error: {str(e)}\")\n",
        "        return \"Error generating explanation\""
      ]
    },
    {
      "cell_type": "code",
      "execution_count": null,
      "metadata": {
        "id": "K3to7VzRc56Z"
      },
      "outputs": [],
      "source": [
        "# Main processing loop\n",
        "results_c = []\n",
        "results_ic = []\n",
        "print(f\"\\nProcessing {num_samples} samples...\")\n",
        "start_time = time.time()\n",
        "\n",
        "for i, example in enumerate(tqdm(dataset, desc=\"Processing samples\")):\n",
        "    if i >= num_samples:\n",
        "        break\n",
        "\n",
        "    premise = example['premise']\n",
        "    hypothesis = example['hypothesis']\n",
        "    text = f\"Premise: {premise}\\nHypothesis: {hypothesis}\"\n",
        "    gt_label = label_map[example['label']]\n",
        "\n",
        "    # Get prediction\n",
        "    pred_prompt = f\"\"\"Classify this as entailment, neutral, or contradiction:\n",
        "\n",
        "Premise: {premise}\n",
        "Hypothesis: {hypothesis}\n",
        "Answer:\"\"\"\n",
        "\n",
        "    pred_label = generate_explanation(pred_prompt, max_new_tokens=10)\n",
        "    pred_label = pred_label.lower().strip()\n",
        "\n",
        "    # Clean and validate prediction\n",
        "    pred_label = pred_label.replace('\"', '').replace(\"'\", \"\")\n",
        "    if \"entail\" in pred_label:\n",
        "        pred_label = \"entailment\"\n",
        "    elif \"neutral\" in pred_label:\n",
        "        pred_label = \"neutral\"\n",
        "    elif \"contradict\" in pred_label:\n",
        "        pred_label = \"contradiction\"\n",
        "    else:\n",
        "        pred_label = \"neutral\"  # Default fallback\n",
        "\n",
        "    print(f\"{gt_label} --- {pred_label}\")\n",
        "\n",
        "    # Get SHAP values\n",
        "    shap_values = get_shap_values(text)\n",
        "    shap_str = str([(token, values.tolist()) for token, values in zip(shap_values.data[0], shap_values.values[0])])\n",
        "\n",
        "    if pred_label == gt_label:\n",
        "      # Store results\n",
        "      results_c.append({\n",
        "        'premise': premise,\n",
        "        'hypothesis': hypothesis,\n",
        "        'gt_label': gt_label,\n",
        "        'pred_label': pred_label,\n",
        "        'shap_value': shap_str,\n",
        "        'human_explanation': example.get('explanation_1', '')\n",
        "      })\n",
        "\n",
        "    else:\n",
        "      # Store results\n",
        "      results_ic.append({\n",
        "        'premise': premise,\n",
        "        'hypothesis': hypothesis,\n",
        "        'gt_label': gt_label,\n",
        "        'pred_label': pred_label,\n",
        "        'shap_value': shap_str,\n",
        "        'human_explanation': example.get('explanation_1', '')\n",
        "      })\n"
      ]
    },
    {
      "cell_type": "code",
      "execution_count": null,
      "metadata": {
        "id": "RDOr0-IfjmTT"
      },
      "outputs": [],
      "source": [
        "df_c = pd.DataFrame(results_c)\n",
        "df_ic = pd.DataFrame(results_ic)"
      ]
    },
    {
      "cell_type": "code",
      "execution_count": null,
      "metadata": {
        "id": "zGPM_CBlc5p6"
      },
      "outputs": [],
      "source": [
        "# Save results\n",
        "output_file_c  = \"llama3_nli_analysis_500_shap_correct.csv\"\n",
        "output_file_ic = \"llama3_nli_analysis_500_shap_incorrect.csv\"\n",
        "\n",
        "df_c.to_csv(output_file_c, index=False)\n",
        "df_ic.to_csv(output_file_ic, index=False)"
      ]
    },
    {
      "cell_type": "code",
      "execution_count": null,
      "metadata": {
        "id": "PBjwDXm9fKsJ"
      },
      "outputs": [],
      "source": [
        "df_c.shape"
      ]
    },
    {
      "cell_type": "code",
      "execution_count": null,
      "metadata": {
        "id": "8G7neZCg6cJB"
      },
      "outputs": [],
      "source": []
    }
  ],
  "metadata": {
    "accelerator": "GPU",
    "colab": {
      "gpuType": "T4",
      "provenance": []
    },
    "kernelspec": {
      "display_name": "Python 3 (ipykernel)",
      "language": "python",
      "name": "python3"
    },
    "language_info": {
      "codemirror_mode": {
        "name": "ipython",
        "version": 3
      },
      "file_extension": ".py",
      "mimetype": "text/x-python",
      "name": "python",
      "nbconvert_exporter": "python",
      "pygments_lexer": "ipython3",
      "version": "3.11.11"
    }
  },
  "nbformat": 4,
  "nbformat_minor": 0
}